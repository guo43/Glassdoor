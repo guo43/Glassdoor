{
 "cells": [
  {
   "cell_type": "code",
   "execution_count": 1,
   "metadata": {},
   "outputs": [],
   "source": [
    "import time\n",
    "import re\n",
    "from bs4 import BeautifulSoup\n",
    "from selenium import webdriver\n",
    "import pandas as pd \n",
    "from selenium.webdriver.common.by import By\n",
    "from selenium.webdriver.support.ui import WebDriverWait\n",
    "from selenium.webdriver.support import expected_conditions as EC"
   ]
  },
  {
   "cell_type": "code",
   "execution_count": 2,
   "metadata": {},
   "outputs": [],
   "source": [
    "# get URL\n",
    "driver = webdriver.Chrome()\n",
    "baseURL = \"https://www.glassdoor.com/index.htm\"\n",
    "driver.get(baseURL)\n",
    "driver.implicitly_wait(3)"
   ]
  },
  {
   "cell_type": "code",
   "execution_count": 3,
   "metadata": {},
   "outputs": [],
   "source": [
    "# Search job and location\n",
    "keywordElement = driver.find_element_by_id(\"KeywordSearch\")\n",
    "locationElement = driver.find_element_by_id(\"LocationSearch\")\n",
    "keywordElement.clear()\n",
    "keywordElement.send_keys(\"Data Analyst\")\n",
    "locationElement.clear()\n",
    "locationElement.send_keys(\"New York, NY\")\n",
    "driver.find_element_by_class_name(\"gd-btn-mkt\").click()"
   ]
  },
  {
   "cell_type": "code",
   "execution_count": 4,
   "metadata": {},
   "outputs": [],
   "source": [
    "# get text page by page \n",
    "# jobsList = []\n",
    "# jobsDscript = []\n",
    "\n",
    "# page_remaining = True\n",
    "# while page_remaining:\n",
    "\n",
    "try:       \n",
    "    emailMeJob_pop = driver.find_element_by_class_name(\"mfp-close\")\n",
    "    emailMeJob_pop.click()\n",
    "except:\n",
    "    current_html = driver.page_source\n",
    "    bs = BeautifulSoup(current_html,\"html.parser\")\n",
    "    \n",
    "    jobs_title =bs.select(\"td.job_title\")\n",
    "    companies_name = bs.select(\"td.company\")\n",
    "    jobs_location = bs.select(\"td.location\")\n",
    "    jobs_salary = bs.select(\"td.salary\")\n",
    "    companies_star = bs.select(\"span.compactStars \")\n",
    "    #find 30 joblinks under tag<td class=\"job_title\">, if use find_all(a class_=\"jobLink) there will be 90 hyperlin\n",
    "    jobLinks = bs.select(\"td.job_title > a\") \n",
    "    \n",
    "\n",
    "\n",
    "\n",
    "\n",
    "#     next_page = driver.find_element_by_class_name(\"next\")\n",
    "#     try:\n",
    "#         next_page.find_element_by_tag_name(\"a\")\n",
    "#         next_page.click()\n",
    "\n",
    "#     except:\n",
    "#         page_remaining = False\n",
    "#         print(\"Finished\")"
   ]
  },
  {
   "cell_type": "code",
   "execution_count": 5,
   "metadata": {},
   "outputs": [],
   "source": [
    "# for indx, value in enumerate(jobsDscript):\n",
    "#     if value != \"NA\":\n",
    "#         print(indx, \"ok\")\n",
    "#     else:\n",
    "#         print(indx, value)"
   ]
  },
  {
   "cell_type": "code",
   "execution_count": 6,
   "metadata": {},
   "outputs": [],
   "source": [
    "\n",
    "# pattern = re.compile(r\"\\u2022\\s[A-z]*.*\")\n",
    "# bullets = re.finditer(pattern,var)\n",
    "# for bullet in bullets:\n",
    "#     print(bullet[0])\n",
    "\n"
   ]
  },
  {
   "cell_type": "code",
   "execution_count": 15,
   "metadata": {},
   "outputs": [
    {
     "name": "stdout",
     "output_type": "stream",
     "text": [
      "[30, 30, 30, 30, 30, 30]\n"
     ]
    }
   ],
   "source": [
    "var_list = [jobs_title,companies_name,jobs_location,jobs_salary,companies_star,jobLinks]\n",
    "print(list(map(len,var_list)))\n",
    "\n"
   ]
  },
  {
   "cell_type": "code",
   "execution_count": 8,
   "metadata": {},
   "outputs": [],
   "source": [
    "driver.close()"
   ]
  },
  {
   "cell_type": "code",
   "execution_count": null,
   "metadata": {},
   "outputs": [],
   "source": []
  }
 ],
 "metadata": {
  "kernelspec": {
   "display_name": "Python 3",
   "language": "python",
   "name": "python3"
  },
  "language_info": {
   "codemirror_mode": {
    "name": "ipython",
    "version": 3
   },
   "file_extension": ".py",
   "mimetype": "text/x-python",
   "name": "python",
   "nbconvert_exporter": "python",
   "pygments_lexer": "ipython3",
   "version": "3.6.5"
  }
 },
 "nbformat": 4,
 "nbformat_minor": 2
}
