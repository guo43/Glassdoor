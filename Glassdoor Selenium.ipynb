{
 "cells": [
  {
   "cell_type": "code",
   "execution_count": 1,
   "metadata": {},
   "outputs": [],
   "source": [
    "import os\n",
    "import pandas as pd \n",
    "import time\n",
    "from selenium import webdriver\n",
    "from selenium.webdriver.common.by import By\n",
    "from selenium.webdriver.support.ui import WebDriverWait\n",
    "from selenium.webdriver.support import expected_conditions as EC"
   ]
  },
  {
   "cell_type": "code",
   "execution_count": 2,
   "metadata": {},
   "outputs": [],
   "source": [
    "def scrap_position_and_location(url,position,location):                               \n",
    "    # get URL\n",
    "    global driver\n",
    "    driver = webdriver.Chrome()\n",
    "    baseURL = url\n",
    "    driver.get(baseURL)\n",
    "    driver.implicitly_wait(3)\n",
    "    # Search job and location\n",
    "    keywordElement = driver.find_element_by_id(\"KeywordSearch\")\n",
    "    locationElement = driver.find_element_by_id(\"LocationSearch\")\n",
    "    keywordElement.clear()\n",
    "    keywordElement.send_keys(position)\n",
    "    locationElement.clear()\n",
    "    locationElement.send_keys(location)\n",
    "    driver.find_element_by_class_name(\"gd-btn-mkt\").click()\n",
    "\n",
    "\n",
    "def click_wait(element):\n",
    "    time.sleep(3)\n",
    "    element.click()\n",
    "    \n",
    "def getHidden_Text(css,driver_): \n",
    "    elements = driver_.find_elements_by_css_selector(css)\n",
    "    for indx,element in enumerate(elements):\n",
    "        text = element.get_attribute('textContent')\n",
    "        try:\n",
    "            elements[indx] = text\n",
    "        except:\n",
    "            elements[indx] = \"NA\"\n",
    "    return elements\n",
    "\n",
    "    "
   ]
  },
  {
   "cell_type": "code",
   "execution_count": 3,
   "metadata": {},
   "outputs": [],
   "source": [
    "scrap_position_and_location(\"https://www.glassdoor.com/index.htm\",\"Data Analyst\",\"New York, NY\")"
   ]
  },
  {
   "cell_type": "code",
   "execution_count": null,
   "metadata": {},
   "outputs": [],
   "source": [
    "%%time \n",
    "# get text\n",
    "\n",
    "job_title = []\n",
    "company_name = []\n",
    "job_location = []\n",
    "job_salary = []\n",
    "company_star = []\n",
    "jobsDescript = []\n",
    "\n",
    "page_remaining = 0\n",
    "page_scrap = 0\n",
    "while page_remaining < 2:\n",
    "    jobs = driver.find_elements_by_css_selector(\"ul.jlGrid > li.jl\")\n",
    "    \n",
    "    title = getHidden_Text(\"div.dataTableContainer td.job_title>a.jobLink\", driver)\n",
    "    company = getHidden_Text(\"div.dataTableContainer td.company>span\", driver)\n",
    "    location = getHidden_Text(\"div.dataTableContainer td.location>span\", driver)\n",
    "\n",
    "    for job in jobs:\n",
    "        try:\n",
    "#             emailMeJob_pop = WebDriverWait(driver, 5).until(EC.element_to_be_clickable((By.CLASS_NAME, \"mfp-close\")))\n",
    "#             time.sleep(5)\n",
    "            emailMeJob_pop = driver.find_element_by_class_name(\"mfp-close\")\n",
    "            emailMeJob_pop.click()\n",
    "        except:\n",
    "            pass\n",
    "\n",
    "        try:\n",
    "            click_wait(job)\n",
    "            jobDescript = driver.find_element_by_id(\"JobDescriptionContainer\")\n",
    "            star = driver.find_element_by_css_selector(\"#HeroHeaderModule\").find_element_by_css_selector(\".compactStars .rating\")\n",
    "            salary = driver.find_element_by_css_selector(\"#HeroHeaderModule\").find_element_by_css_selector(\".salEst\")\n",
    "            jobsDescript.append(jobDescript.text)\n",
    "            company_star.append(star.text)\n",
    "            job_salary.append(salary.text)\n",
    "        except:\n",
    "            jobsDescript.append(\"NA\")\n",
    "            company_star.append(\"NA\")\n",
    "            job_salary.append(\"NA\")\n",
    "\n",
    "    for i,j in list(zip([job_title,company_name,job_location],\n",
    "                    [title, company,location])):\n",
    "        i.extend(j)\n",
    "    \n",
    "    next_page = driver.find_element_by_class_name(\"next\")\n",
    "    next_page.find_element_by_tag_name(\"a\")\n",
    "    click_wait(next_page)\n",
    "    page_remaining=page_remaining + 1\n",
    "\n"
   ]
  },
  {
   "cell_type": "code",
   "execution_count": null,
   "metadata": {},
   "outputs": [],
   "source": [
    "var_list = [job_title,company_name,job_location,job_salary,company_star,jobsDescript]\n",
    "\n",
    "print(list(map(len,var_list)))\n"
   ]
  },
  {
   "cell_type": "code",
   "execution_count": null,
   "metadata": {},
   "outputs": [],
   "source": [
    "# save each elements to file \n",
    "# var_name = [\"job_title\",'company_name','job_location','job_salary','company_star','jobsDescript']\n",
    "# try:\n",
    "#     for ind,item in enumerate(var_list):\n",
    "#         with open (var_name[ind] +\".csv\",\"w\") as file:\n",
    "#             file.write(str(item))\n",
    "# except:\n",
    "#     print(\"something wrong\")\n",
    "        "
   ]
  },
  {
   "cell_type": "code",
   "execution_count": null,
   "metadata": {},
   "outputs": [],
   "source": [
    "#         if page_scrap >= 3:\n",
    "#             time.sleep(5)\n",
    "#             page_scrap = 0\n",
    "#         else:\n",
    "#             pass\n",
    "\n",
    "#     except:\n",
    "#         page_remaining = False\n",
    "#         print(\"Finished\")\n"
   ]
  },
  {
   "cell_type": "code",
   "execution_count": null,
   "metadata": {},
   "outputs": [],
   "source": []
  },
  {
   "cell_type": "code",
   "execution_count": null,
   "metadata": {},
   "outputs": [],
   "source": [
    "# with open(\"jobsDes.csv\",\"w\") as file:\n",
    "#     file.write(str(jobsDescript))"
   ]
  },
  {
   "cell_type": "code",
   "execution_count": null,
   "metadata": {},
   "outputs": [],
   "source": []
  }
 ],
 "metadata": {
  "kernelspec": {
   "display_name": "Python 3",
   "language": "python",
   "name": "python3"
  },
  "language_info": {
   "codemirror_mode": {
    "name": "ipython",
    "version": 3
   },
   "file_extension": ".py",
   "mimetype": "text/x-python",
   "name": "python",
   "nbconvert_exporter": "python",
   "pygments_lexer": "ipython3",
   "version": "3.6.5"
  }
 },
 "nbformat": 4,
 "nbformat_minor": 2
}
