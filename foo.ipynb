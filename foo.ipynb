{
 "cells": [
  {
   "cell_type": "code",
   "execution_count": 29,
   "metadata": {},
   "outputs": [],
   "source": [
    "import time\n",
    "\n",
    "from selenium import webdriver\n",
    "from selenium.webdriver.common.keys import Keys"
   ]
  },
  {
   "cell_type": "code",
   "execution_count": 30,
   "metadata": {},
   "outputs": [],
   "source": [
    "driver =  webdriver.Chrome()\n",
    "\n",
    "url = 'https://www.glassdoor.com/index.htm'\n",
    "driver.get(url)"
   ]
  },
  {
   "cell_type": "code",
   "execution_count": 31,
   "metadata": {},
   "outputs": [],
   "source": [
    "input_keyword = driver.find_element_by_id('KeywordSearch')\n",
    "input_keyword.clear()\n",
    "input_keyword.send_keys('data analyst')"
   ]
  },
  {
   "cell_type": "code",
   "execution_count": 32,
   "metadata": {},
   "outputs": [],
   "source": [
    "input_location = driver.find_element_by_id('LocationSearch')\n",
    "input_location.clear()\n",
    "input_location.send_keys('new york, ny')\n",
    "input_location.send_keys(Keys.RETURN)"
   ]
  },
  {
   "cell_type": "code",
   "execution_count": 34,
   "metadata": {},
   "outputs": [],
   "source": [
    "jobs = driver.find_elements_by_class_name('jl')"
   ]
  },
  {
   "cell_type": "code",
   "execution_count": 35,
   "metadata": {},
   "outputs": [],
   "source": [
    "company_info = []\n",
    "job_description = []\n",
    "\n",
    "for job in jobs[:5]:\n",
    "#     link = job.find_element_by_class_name('jobLink')\n",
    "#     link.click()\n",
    "\n",
    "#     print(job.text)\n",
    "    time.sleep(5)\n",
    "    driver.execute_script(\"arguments[0].click();\", job)\n",
    "    company_info.append(job.text)\n",
    "    time.sleep(10)\n",
    "    try:\n",
    "        desc = driver.find_element_by_id('JobDescriptionContainer')\n",
    "        job_description.append(desc.text)\n",
    "    except:\n",
    "        job_description.append('N/A')\n"
   ]
  },
  {
   "cell_type": "code",
   "execution_count": 36,
   "metadata": {},
   "outputs": [
    {
     "data": {
      "text/plain": [
       "5"
      ]
     },
     "execution_count": 36,
     "metadata": {},
     "output_type": "execute_result"
    }
   ],
   "source": [
    "len(company_info)"
   ]
  },
  {
   "cell_type": "code",
   "execution_count": 37,
   "metadata": {},
   "outputs": [
    {
     "data": {
      "text/plain": [
       "5"
      ]
     },
     "execution_count": 37,
     "metadata": {},
     "output_type": "execute_result"
    }
   ],
   "source": [
    "len(job_description)"
   ]
  },
  {
   "cell_type": "code",
   "execution_count": 20,
   "metadata": {},
   "outputs": [
    {
     "name": "stdout",
     "output_type": "stream",
     "text": [
      "5.0\n",
      "Data Analyst\n",
      "Graphika – New York, NY\n",
      "EASY APPLY\n",
      "HOT\n"
     ]
    }
   ],
   "source": [
    "print(company_info[0])"
   ]
  },
  {
   "cell_type": "code",
   "execution_count": 40,
   "metadata": {},
   "outputs": [
    {
     "name": "stdout",
     "output_type": "stream",
     "text": [
      "ok 0\n",
      "ok 1\n",
      "ok 2\n",
      "ok 3\n",
      "ok 4\n"
     ]
    }
   ],
   "source": [
    "for indx, value in enumerate(job_description):\n",
    "    if value != \"N/A\":\n",
    "        print(\"ok\", indx)\n",
    "    else:\n",
    "        print(\"NA\", indx)\n",
    "        "
   ]
  },
  {
   "cell_type": "code",
   "execution_count": null,
   "metadata": {},
   "outputs": [],
   "source": []
  }
 ],
 "metadata": {
  "kernelspec": {
   "display_name": "Python 3",
   "language": "python",
   "name": "python3"
  },
  "language_info": {
   "codemirror_mode": {
    "name": "ipython",
    "version": 3
   },
   "file_extension": ".py",
   "mimetype": "text/x-python",
   "name": "python",
   "nbconvert_exporter": "python",
   "pygments_lexer": "ipython3",
   "version": "3.6.5"
  }
 },
 "nbformat": 4,
 "nbformat_minor": 2
}
