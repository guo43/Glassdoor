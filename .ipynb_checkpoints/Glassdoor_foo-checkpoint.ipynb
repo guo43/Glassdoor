{
 "cells": [
  {
   "cell_type": "code",
   "execution_count": 1,
   "metadata": {},
   "outputs": [],
   "source": [
    "import urllib\n",
    "import re\n",
    "from bs4 import SoupStrainer \n",
    "from bs4 import BeautifulSoup\n",
    "from selenium import webdriver\n",
    "import pandas as pd \n"
   ]
  },
  {
   "cell_type": "code",
   "execution_count": 2,
   "metadata": {},
   "outputs": [],
   "source": [
    "\n",
    "def find_jobs_and_location(url,position,location):\n",
    "    #get URL\n",
    "    global driver\n",
    "    driver = webdriver.Chrome()\n",
    "    baseURL = \"https://www.glassdoor.com/index.htm\"\n",
    "    driver.get(baseURL)\n",
    "    driver.implicitly_wait(3)\n",
    "    # Search job and location\n",
    "    keywordElement = driver.find_element_by_id(\"KeywordSearch\")\n",
    "    locationElement = driver.find_element_by_id(\"LocationSearch\")\n",
    "    keywordElement.clear()\n",
    "    keywordElement.send_keys(\"Data Analyst\")\n",
    "    locationElement.clear()\n",
    "    locationElement.send_keys(\"New York, NY\")\n",
    "    driver.find_element_by_class_name(\"gd-btn-mkt\").click()\n",
    "\n",
    "find_jobs_and_location(\"https://www.glassdoor.com/index.htm\",\"Data Analyst\",\"New York, NY\")    "
   ]
  },
  {
   "cell_type": "code",
   "execution_count": 3,
   "metadata": {},
   "outputs": [],
   "source": [
    "# get text page by page \n",
    "# jobsList = []\n",
    "# jobsDscript = []\n",
    "\n",
    "# page_remaining = True\n",
    "# while page_remaining:\n",
    "jobLinks = []\n",
    "try:       \n",
    "    emailMeJob_pop = driver.find_element_by_class_name(\"mfp-close\")\n",
    "    emailMeJob_pop.click()\n",
    "except:\n",
    "    current_html = driver.page_source\n",
    "    bs = BeautifulSoup(current_html,\"html.parser\")   \n",
    "    \n",
    "    jobs_title =bs.select(\"td.job_title\")\n",
    "    companies_name = bs.select(\"td.company\")\n",
    "    jobs_location = bs.select(\"td.location\")\n",
    "    jobs_salary = bs.select(\"td.salary\")\n",
    "    companies_star = bs.select(\"span.compactStars \")\n",
    "    #find 30 joblinks under tag<td class=\"job_title\">, if use find_all(a class_=\"jobLink) there will be 90 hyperlin\n",
    "    for links in bs.select(\"td.job_title > a\"):\n",
    "        jobLink = f\"https://www.glassdoor.com\" + links.get(\"href\")\n",
    "        jobLinks.append(jobLink)\n",
    "\n",
    "#     next_page = driver.find_element_by_class_name(\"next\")\n",
    "#     try:\n",
    "#         next_page.find_element_by_tag_name(\"a\")\n",
    "#         next_page.click()\n",
    "\n",
    "#     except:\n",
    "#         page_remaining = False\n",
    "#         print(\"Finished\")"
   ]
  },
  {
   "cell_type": "code",
   "execution_count": 5,
   "metadata": {},
   "outputs": [],
   "source": [
    "job_contents = []\n",
    "#scrape elements\n",
    "for jobLink in jobLinks: \n",
    "    req = urllib.request.Request(jobLink, headers={'User-Agent' : \"Magic Browser\"}) \n",
    "    con = urllib.request.urlopen( req ) \n",
    "    only_job_content = SoupStrainer(\"div\",id=\"JobDescriptionContainer\")\n",
    "    soup = BeautifulSoup(con.read(), \"html.parser\", parse_only=only_job_content)\n",
    "#save jobDesc in job_contents\n",
    "    jobDesc = soup.find(\"div\",class_=\"jobDescriptionContent\")\n",
    "    try:\n",
    "        job_contents.append(jobDesc.get_text())\n",
    "    except:\n",
    "        job_contents.append(\"NA\")\n",
    "        \n",
    "driver.close()  \n",
    "   \n",
    "\n",
    "    "
   ]
  },
  {
   "cell_type": "code",
   "execution_count": null,
   "metadata": {},
   "outputs": [],
   "source": [
    "var_list = [jobs_title,companies_name,jobs_location,jobs_salary,companies_star,jobLinks,job_contents]\n",
    "print(list(map(len,var_list)))"
   ]
  },
  {
   "cell_type": "code",
   "execution_count": 8,
   "metadata": {},
   "outputs": [],
   "source": [
    "# pattern = re.compile(r\"\\u2022\\s[A-z]*.*\")\n",
    "# bullets = re.finditer(pattern,var)\n",
    "# for bullet in bullets:\n",
    "#     print(bullet[0])"
   ]
  },
  {
   "cell_type": "code",
   "execution_count": null,
   "metadata": {},
   "outputs": [],
   "source": []
  },
  {
   "cell_type": "code",
   "execution_count": null,
   "metadata": {},
   "outputs": [],
   "source": []
  }
 ],
 "metadata": {
  "kernelspec": {
   "display_name": "Python 3",
   "language": "python",
   "name": "python3"
  },
  "language_info": {
   "codemirror_mode": {
    "name": "ipython",
    "version": 3
   },
   "file_extension": ".py",
   "mimetype": "text/x-python",
   "name": "python",
   "nbconvert_exporter": "python",
   "pygments_lexer": "ipython3",
   "version": "3.6.5"
  }
 },
 "nbformat": 4,
 "nbformat_minor": 2
}
