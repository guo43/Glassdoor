{
 "cells": [
  {
   "cell_type": "code",
   "execution_count": 1,
   "metadata": {},
   "outputs": [],
   "source": [
    "import time\n",
    "import re\n",
    "from bs4 import BeautifulSoup\n",
    "from selenium import webdriver\n",
    "from selenium.webdriver.common.by import By\n",
    "from selenium.webdriver.support.ui import WebDriverWait\n",
    "from selenium.webdriver.support import expected_conditions as EC"
   ]
  },
  {
   "cell_type": "code",
   "execution_count": 2,
   "metadata": {},
   "outputs": [],
   "source": [
    "# get URL\n",
    "driver = webdriver.Chrome()\n",
    "baseURL = \"https://www.glassdoor.com/index.htm\"\n",
    "driver.get(baseURL)\n",
    "driver.implicitly_wait(3)"
   ]
  },
  {
   "cell_type": "code",
   "execution_count": 3,
   "metadata": {},
   "outputs": [],
   "source": [
    "# Search job and location\n",
    "keywordElement = driver.find_element_by_id(\"KeywordSearch\")\n",
    "locationElement = driver.find_element_by_id(\"LocationSearch\")\n",
    "keywordElement.clear()\n",
    "keywordElement.send_keys(\"Data Analyst\")\n",
    "locationElement.clear()\n",
    "locationElement.send_keys(\"New York, NY\")\n",
    "driver.find_element_by_class_name(\"gd-btn-mkt\").click()"
   ]
  },
  {
   "cell_type": "code",
   "execution_count": 4,
   "metadata": {},
   "outputs": [
    {
     "name": "stdout",
     "output_type": "stream",
     "text": [
      "0 ok\n",
      "1 ok\n",
      "2 ok\n",
      "3 ok\n"
     ]
    }
   ],
   "source": [
    "# get text page by page \n",
    "\n",
    "jobsList = []\n",
    "jobsDscript = []\n",
    "\n",
    "page_remaining = True\n",
    "# while page_remaining:\n",
    "jobs = driver.find_elements_by_class_name(\"jl\")\n",
    "\n",
    "for job in jobs[0:4]:\n",
    "    try:\n",
    "        # emailMeJob_pop = WebDriverWait(driver, 6).until(EC.element_to_be_clickable((By.CLASS_NAME, \"mfp-close\")))\n",
    "        # time.sleep(5)\n",
    "        emailMeJob_pop = driver.find_element_by_class_name(\"mfp-close\")\n",
    "        emailMeJob_pop.click()\n",
    "    except:\n",
    "        pass\n",
    "\n",
    "    try:\n",
    "        jobsList.append(job.text)\n",
    "        job.click()\n",
    "        current_html = driver.page_source\n",
    "        bs = BeautifulSoup(current_html,\"html.parser\")\n",
    "#         jobDscript = driver.find_element_by_id(\"JobDescriptionContainer\")\n",
    "        jobsDscript.append(bs)\n",
    "    except:\n",
    "        jobsDscript.append(\"NA\")\n",
    "\n",
    "#     next_page = driver.find_element_by_class_name(\"next\")\n",
    "#     try:\n",
    "#         next_page.find_element_by_tag_name(\"a\")\n",
    "#         next_page.click()\n",
    "\n",
    "#     except:\n",
    "#         page_remaining = False\n",
    "#         print(\"Finished\")\n",
    "for indx, value in enumerate(jobsDscript):\n",
    "    if value != \"NA\":\n",
    "        print(indx, \"ok\")\n",
    "    else:\n",
    "        print(indx, value)"
   ]
  },
  {
   "cell_type": "code",
   "execution_count": null,
   "metadata": {},
   "outputs": [],
   "source": []
  },
  {
   "cell_type": "code",
   "execution_count": 8,
   "metadata": {},
   "outputs": [],
   "source": [
    "var =jobsDscript[1]\n"
   ]
  },
  {
   "cell_type": "code",
   "execution_count": 6,
   "metadata": {},
   "outputs": [],
   "source": [
    "\n",
    "# pattern = re.compile(r\"\\u2022\\s[A-z]*.*\")\n",
    "# bullets = re.finditer(pattern,var)\n",
    "# for bullet in bullets:\n",
    "#     print(bullet[0])\n",
    "\n"
   ]
  },
  {
   "cell_type": "code",
   "execution_count": null,
   "metadata": {},
   "outputs": [],
   "source": []
  },
  {
   "cell_type": "code",
   "execution_count": null,
   "metadata": {},
   "outputs": [],
   "source": []
  }
 ],
 "metadata": {
  "kernelspec": {
   "display_name": "Python 3",
   "language": "python",
   "name": "python3"
  },
  "language_info": {
   "codemirror_mode": {
    "name": "ipython",
    "version": 3
   },
   "file_extension": ".py",
   "mimetype": "text/x-python",
   "name": "python",
   "nbconvert_exporter": "python",
   "pygments_lexer": "ipython3",
   "version": "3.6.5"
  }
 },
 "nbformat": 4,
 "nbformat_minor": 2
}
