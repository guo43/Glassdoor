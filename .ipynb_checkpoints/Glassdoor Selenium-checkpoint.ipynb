{
 "cells": [
  {
   "cell_type": "code",
   "execution_count": 1,
   "metadata": {},
   "outputs": [],
   "source": [
    "import time\n",
    "from selenium import webdriver\n",
    "from selenium.webdriver.common.by import By\n",
    "from selenium.webdriver.support.ui import WebDriverWait\n",
    "from selenium.webdriver.support import expected_conditions as EC"
   ]
  },
  {
   "cell_type": "code",
   "execution_count": 2,
   "metadata": {},
   "outputs": [
    {
     "name": "stdout",
     "output_type": "stream",
     "text": [
      "CPU times: user 16.1 ms, sys: 13.2 ms, total: 29.3 ms\n",
      "Wall time: 9.75 s\n"
     ]
    }
   ],
   "source": [
    "%%time\n",
    "# get URL\n",
    "driver = webdriver.Chrome()\n",
    "baseURL = \"https://www.glassdoor.com/index.htm\"\n",
    "driver.get(baseURL)\n",
    "driver.implicitly_wait(3)\n",
    "\n",
    "# Search job and location\n",
    "keywordElement = driver.find_element_by_id(\"KeywordSearch\")\n",
    "locationElement = driver.find_element_by_id(\"LocationSearch\")\n",
    "keywordElement.clear()\n",
    "keywordElement.send_keys(\"Data Analyst\")\n",
    "locationElement.clear()\n",
    "locationElement.send_keys(\"New York, NY\")\n",
    "driver.find_element_by_class_name(\"gd-btn-mkt\").click()"
   ]
  },
  {
   "cell_type": "code",
   "execution_count": 3,
   "metadata": {},
   "outputs": [],
   "source": [
    "def click_wait(element):\n",
    "    time.sleep(1)\n",
    "    element.click()"
   ]
  },
  {
   "cell_type": "code",
   "execution_count": null,
   "metadata": {},
   "outputs": [],
   "source": [
    "%%time \n",
    "# get text\n",
    "\n",
    "job_title = []\n",
    "company_name = []\n",
    "job_location = []\n",
    "job_salary = []\n",
    "company_star = []\n",
    "jobsDescript = []\n",
    "\n",
    "page_remaining = 0\n",
    "while page_remaining<4:\n",
    "    jobs = driver.find_elements_by_css_selector(\"ul.jlGrid > li.jl\")\n",
    "    title = driver.find_elements_by_css_selector(\"div.dataTableContainer td.job_title>a.jobLink\")\n",
    "    company = driver.find_elements_by_css_selector(\"div.dataTableContainer td.company>span\")\n",
    "    location = driver.find_elements_by_css_selector(\"div.dataTableContainer td.location>span\")\n",
    "    salary = driver.find_elements_by_css_selector(\"div.dataTableContainer td.salary>span\")\n",
    "    star = driver.find_elements_by_css_selector(\"span.compactStars\")\n",
    "\n",
    "    for i,j in list(zip([job_title,company_name,job_location,job_salary,company_star],\n",
    "                        [title, company,location,salary,star])):\n",
    "        i=i+j\n",
    "\n",
    "    for job in jobs:\n",
    "        try:\n",
    "            # emailMeJob_pop = WebDriverWait(driver, 6).until(EC.element_to_be_clickable((By.CLASS_NAME, \"mfp-close\")))\n",
    "            # time.sleep(5)\n",
    "            emailMeJob_pop = driver.find_element_by_class_name(\"mfp-close\")\n",
    "            emailMeJob_pop.click()\n",
    "        except:\n",
    "            pass\n",
    "\n",
    "        try:\n",
    "            click_wait(job)\n",
    "            jobDescript = driver.find_element_by_id(\"JobDescriptionContainer\")\n",
    "            jobsDescript.append(jobDescript.text)\n",
    "        except:\n",
    "            jobsDescript.append(\"NA\")\n",
    "    \n",
    "    next_page = driver.find_element_by_class_name(\"next\")\n",
    "    try:\n",
    "        next_page.find_element_by_tag_name(\"a\")\n",
    "        click_wait(next_page)\n",
    "        page_remaining=+1\n",
    "\n",
    "    except:\n",
    "        page_remaining = False\n",
    "        print(\"Finished\")\n"
   ]
  },
  {
   "cell_type": "code",
   "execution_count": null,
   "metadata": {},
   "outputs": [],
   "source": [
    "var_list =  var_list = [job_title,company_name,job_location,job_salary,company_star,jobs]\n",
    "# var_list = [title,company,location,salary,star,jobs,jobsDescript]\n",
    "print(list(map(len,var_list)))"
   ]
  },
  {
   "cell_type": "code",
   "execution_count": null,
   "metadata": {},
   "outputs": [],
   "source": [
    "# for test in jobs:\n",
    "#     print(test.get_attribute('textContent'))"
   ]
  },
  {
   "cell_type": "code",
   "execution_count": null,
   "metadata": {},
   "outputs": [],
   "source": [
    "# for indx, value in enumerate(jobsDescript):\n",
    "#     if value != \"NA\":\n",
    "#         print(indx, \"ok\")\n",
    "#     else:\n",
    "#         print(indx, value)"
   ]
  },
  {
   "cell_type": "code",
   "execution_count": null,
   "metadata": {},
   "outputs": [],
   "source": []
  },
  {
   "cell_type": "code",
   "execution_count": null,
   "metadata": {},
   "outputs": [],
   "source": []
  }
 ],
 "metadata": {
  "kernelspec": {
   "display_name": "Python 3",
   "language": "python",
   "name": "python3"
  },
  "language_info": {
   "codemirror_mode": {
    "name": "ipython",
    "version": 3
   },
   "file_extension": ".py",
   "mimetype": "text/x-python",
   "name": "python",
   "nbconvert_exporter": "python",
   "pygments_lexer": "ipython3",
   "version": "3.6.5"
  }
 },
 "nbformat": 4,
 "nbformat_minor": 2
}
